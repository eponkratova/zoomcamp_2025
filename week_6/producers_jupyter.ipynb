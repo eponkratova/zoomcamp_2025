{
 "cells": [
  {
   "cell_type": "code",
   "execution_count": 9,
   "id": "b8cdaa16",
   "metadata": {},
   "outputs": [
    {
     "name": "stdout",
     "output_type": "stream",
     "text": [
      "Download complete!\n"
     ]
    }
   ],
   "source": [
    "import requests\n",
    "\n",
    "url = \"https://github.com/DataTalksClub/nyc-tlc-data/releases/download/green/green_tripdata_2019-10.csv.gz\"\n",
    "response = requests.get(url, allow_redirects=True)\n",
    "\n",
    "# Save to file\n",
    "with open(\"green_tripdata_2019-10.csv.gz\", \"wb\") as file:\n",
    "    file.write(response.content)\n",
    "\n",
    "print(\"Download complete!\")"
   ]
  },
  {
   "cell_type": "code",
   "execution_count": 12,
   "id": "4c1040b0",
   "metadata": {},
   "outputs": [
    {
     "name": "stdout",
     "output_type": "stream",
     "text": [
      "Time taken to send the dataset: 128.09 seconds\n"
     ]
    }
   ],
   "source": [
    "import json\n",
    "import csv\n",
    "from time import time\n",
    "from kafka import KafkaProducer\n",
    "\n",
    "# Function to serialize the message as JSON\n",
    "def json_serializer(data):\n",
    "    return json.dumps(data).encode('utf-8')\n",
    "\n",
    "# Kafka configuration\n",
    "server = \"localhost:9092\"\n",
    "topic_name = \"green-trips\"\n",
    "\n",
    "producer = KafkaProducer(\n",
    "    bootstrap_servers=[server],\n",
    "    value_serializer=json_serializer\n",
    ")\n",
    "\n",
    "# Path to the CSV file\n",
    "csv_file = \"D:/OneDrive/Desktop/zoomcamp/zoomcamp_2025/week_6/2023-python-gsg/green_tripdata_2019-10/green_tripdata_2019-10.csv\"\n",
    "\n",
    "# Columns to keep\n",
    "required_columns = [\n",
    "    'lpep_pickup_datetime',\n",
    "    'lpep_dropoff_datetime',\n",
    "    'PULocationID',\n",
    "    'DOLocationID',\n",
    "    'passenger_count',\n",
    "    'trip_distance',\n",
    "    'tip_amount'\n",
    "]\n",
    "\n",
    "# Start timer\n",
    "t0 = time()\n",
    "\n",
    "# Read and send data to Kafka\n",
    "with open(csv_file, 'r', newline='', encoding='utf-8') as file:\n",
    "    reader = csv.DictReader(file)\n",
    "\n",
    "    for row in reader:\n",
    "        # Filter only the required columns\n",
    "        message = {key: row[key] for key in required_columns}\n",
    "        producer.send(topic_name, value=message)\n",
    "\n",
    "# Ensure all messages are delivered\n",
    "producer.flush()\n",
    "\n",
    "# End timer\n",
    "t1 = time()\n",
    "took = t1 - t0\n",
    "\n",
    "print(f\"Time taken to send the dataset: {took:.2f} seconds\")\n"
   ]
  }
 ],
 "metadata": {
  "kernelspec": {
   "display_name": "Python 3 (ipykernel)",
   "language": "python",
   "name": "python3"
  },
  "language_info": {
   "codemirror_mode": {
    "name": "ipython",
    "version": 3
   },
   "file_extension": ".py",
   "mimetype": "text/x-python",
   "name": "python",
   "nbconvert_exporter": "python",
   "pygments_lexer": "ipython3",
   "version": "3.9.21"
  }
 },
 "nbformat": 4,
 "nbformat_minor": 5
}
